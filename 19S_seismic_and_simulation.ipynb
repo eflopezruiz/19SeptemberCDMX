{
 "cells": [
  {
   "cell_type": "code",
   "execution_count": 59,
   "metadata": {},
   "outputs": [],
   "source": [
    "import pandas as pd \n",
    "import numpy as np\n",
    "import seaborn as sns\n",
    "\n",
    "import base64\n",
    "import requests"
   ]
  },
  {
   "cell_type": "markdown",
   "metadata": {},
   "source": [
    "## Importing, curating and exploring historic seismic data from SSN"
   ]
  },
  {
   "cell_type": "code",
   "execution_count": 60,
   "metadata": {},
   "outputs": [
    {
     "name": "stdout",
     "output_type": "stream",
     "text": [
      "(262782, 10)\n",
      "<class 'pandas.core.frame.DataFrame'>\n",
      "RangeIndex: 262782 entries, 0 to 262781\n",
      "Data columns (total 10 columns):\n",
      " #   Column                      Non-Null Count   Dtype  \n",
      "---  ------                      --------------   -----  \n",
      " 0   Fecha                       262782 non-null  object \n",
      " 1   Hora                        262782 non-null  object \n",
      " 2   Magnitud                    262782 non-null  object \n",
      " 3   Latitud                     262782 non-null  float64\n",
      " 4   Longitud                    262782 non-null  float64\n",
      " 5   Profundidad                 262782 non-null  object \n",
      " 6   Referencia de localizacion  262782 non-null  object \n",
      " 7   Fecha UTC                   262782 non-null  object \n",
      " 8   Hora UTC                    262782 non-null  object \n",
      " 9   Estatus                     262782 non-null  object \n",
      "dtypes: float64(2), object(8)\n",
      "memory usage: 20.0+ MB\n",
      "None\n"
     ]
    },
    {
     "data": {
      "text/html": [
       "<div>\n",
       "<style scoped>\n",
       "    .dataframe tbody tr th:only-of-type {\n",
       "        vertical-align: middle;\n",
       "    }\n",
       "\n",
       "    .dataframe tbody tr th {\n",
       "        vertical-align: top;\n",
       "    }\n",
       "\n",
       "    .dataframe thead th {\n",
       "        text-align: right;\n",
       "    }\n",
       "</style>\n",
       "<table border=\"1\" class=\"dataframe\">\n",
       "  <thead>\n",
       "    <tr style=\"text-align: right;\">\n",
       "      <th></th>\n",
       "      <th>Fecha</th>\n",
       "      <th>Hora</th>\n",
       "      <th>Magnitud</th>\n",
       "      <th>Latitud</th>\n",
       "      <th>Longitud</th>\n",
       "      <th>Profundidad</th>\n",
       "      <th>Referencia de localizacion</th>\n",
       "      <th>Fecha UTC</th>\n",
       "      <th>Hora UTC</th>\n",
       "      <th>Estatus</th>\n",
       "    </tr>\n",
       "  </thead>\n",
       "  <tbody>\n",
       "    <tr>\n",
       "      <th>0</th>\n",
       "      <td>1/20/1900</td>\n",
       "      <td>0:33:30</td>\n",
       "      <td>7.4</td>\n",
       "      <td>20.0</td>\n",
       "      <td>-105.0</td>\n",
       "      <td>33</td>\n",
       "      <td>71 km al NOROESTE de AUTLAN DE NAVARRO, JAL</td>\n",
       "      <td>1/20/1900</td>\n",
       "      <td>6:33:30</td>\n",
       "      <td>revisado</td>\n",
       "    </tr>\n",
       "    <tr>\n",
       "      <th>1</th>\n",
       "      <td>5/16/1900</td>\n",
       "      <td>14:12:00</td>\n",
       "      <td>6.9</td>\n",
       "      <td>20.0</td>\n",
       "      <td>-105.0</td>\n",
       "      <td>33</td>\n",
       "      <td>71 km al NOROESTE de AUTLAN DE NAVARRO, JAL</td>\n",
       "      <td>5/16/1900</td>\n",
       "      <td>20:12:00</td>\n",
       "      <td>revisado</td>\n",
       "    </tr>\n",
       "    <tr>\n",
       "      <th>2</th>\n",
       "      <td>3/5/1901</td>\n",
       "      <td>4:45:00</td>\n",
       "      <td>6.9</td>\n",
       "      <td>25.0</td>\n",
       "      <td>-110.0</td>\n",
       "      <td>33</td>\n",
       "      <td>100 km al NORESTE de LA PAZ, BCS</td>\n",
       "      <td>3/5/1901</td>\n",
       "      <td>10:45:00</td>\n",
       "      <td>revisado</td>\n",
       "    </tr>\n",
       "  </tbody>\n",
       "</table>\n",
       "</div>"
      ],
      "text/plain": [
       "       Fecha      Hora Magnitud  Latitud  Longitud Profundidad  \\\n",
       "0  1/20/1900   0:33:30      7.4     20.0    -105.0          33   \n",
       "1  5/16/1900  14:12:00      6.9     20.0    -105.0          33   \n",
       "2   3/5/1901   4:45:00      6.9     25.0    -110.0          33   \n",
       "\n",
       "                    Referencia de localizacion  Fecha UTC  Hora UTC   Estatus  \n",
       "0  71 km al NOROESTE de AUTLAN DE NAVARRO, JAL  1/20/1900   6:33:30  revisado  \n",
       "1  71 km al NOROESTE de AUTLAN DE NAVARRO, JAL  5/16/1900  20:12:00  revisado  \n",
       "2             100 km al NORESTE de LA PAZ, BCS   3/5/1901  10:45:00  revisado  "
      ]
     },
     "execution_count": 60,
     "metadata": {},
     "output_type": "execute_result"
    }
   ],
   "source": [
    "#Data retrieved from Mexican Seismological Service from UNAM (http://www2.ssn.unam.mx:8080/catalogo/#)\n",
    "#Data contains 262,782 rows with data from 1900 to September 2022 with historic seisms detection\n",
    "\n",
    "#data = pd.read_csv('SSNMX_19000101_20221012.csv')\n",
    "\n",
    "url = 'https://github.com/eflopezruiz/19SeptemberCDMX/blob/64b15e645f4e4851d1d1f49c1602f61827aa5b2f/SSNMX_19000101_20221012.csv?raw=true'\n",
    "data = pd.read_csv(url,low_memory=False)\n",
    "print(data.shape)\n",
    "print(data.info())\n",
    "data.head(3)"
   ]
  },
  {
   "cell_type": "code",
   "execution_count": 61,
   "metadata": {},
   "outputs": [
    {
     "name": "stdout",
     "output_type": "stream",
     "text": [
      "['7.4' '6.9' '7' '7.5' '7.7' '7.1' '7.6' '6.6' '7.2' '6.5' '6.7' '6.8'\n",
      " '6.4' '7.8' '8.2' '7.3' '7.9' '4.3' '4.8' '3.5' 'no calculable' '4.4'\n",
      " '4.6' '4.5' '5' '5.1' '3.7' '3.1' '4.1' '5.3' '4.9' '4.7' '4.2' '5.4'\n",
      " '6.3' '3.3' '5.6' '3.6' '4' '3.9' '5.5' '6' '5.2' '3.8' '3' '6.1' '3.2'\n",
      " '3.4' '2.9' '5.7' '5.9' '2.8' '2.7' '2.2' '2.6' '2.5' '1.6' '2.4' '2.1'\n",
      " '1.9' '1.5' '2.3' '2' '1.7' '5.8' '6.2' '8.1' '8' '1.8' '1.2' '1.4' '1.3'\n",
      " '1' '0.6' '1.1' '0.3' '0.9']\n",
      "<class 'pandas.core.frame.DataFrame'>\n",
      "Int64Index: 245133 entries, 0 to 262781\n",
      "Data columns (total 10 columns):\n",
      " #   Column                      Non-Null Count   Dtype  \n",
      "---  ------                      --------------   -----  \n",
      " 0   Fecha                       245133 non-null  object \n",
      " 1   Hora                        245133 non-null  object \n",
      " 2   Magnitud                    245133 non-null  float64\n",
      " 3   Latitud                     245133 non-null  float64\n",
      " 4   Longitud                    245133 non-null  float64\n",
      " 5   Profundidad                 245133 non-null  object \n",
      " 6   Referencia de localizacion  245133 non-null  object \n",
      " 7   Fecha UTC                   245133 non-null  object \n",
      " 8   Hora UTC                    245133 non-null  object \n",
      " 9   Estatus                     245133 non-null  object \n",
      "dtypes: float64(3), object(7)\n",
      "memory usage: 20.6+ MB\n",
      "None\n"
     ]
    }
   ],
   "source": [
    "#Adjust columns to homogenize datatypes \n",
    "print(data.Magnitud.unique())\n",
    "\n",
    "#'No calculable' value is discarded keeping in mind that Magnitude is the main attribute to differ strong from mild seismic events\n",
    "data = data[data.Magnitud != 'no calculable']\n",
    "#Magnitud field is then tranformed into float type\n",
    "data['Magnitud'] = data.Magnitud.astype(float)\n",
    "\n",
    "print(data.info())"
   ]
  },
  {
   "cell_type": "markdown",
   "metadata": {},
   "source": [
    "First, let's explore the distribution of the magnitude from the seims along historic record "
   ]
  },
  {
   "cell_type": "code",
   "execution_count": 62,
   "metadata": {},
   "outputs": [
    {
     "data": {
      "text/plain": [
       "<AxesSubplot:xlabel='Magnitud', ylabel='Count'>"
      ]
     },
     "execution_count": 62,
     "metadata": {},
     "output_type": "execute_result"
    },
    {
     "data": {
      "image/png": "[encoded data removed]",
      "text/plain": [
       "<Figure size 864x576 with 1 Axes>"
      ]
     },
     "metadata": {},
     "output_type": "display_data"
    }
   ],
   "source": [
    "#Plot the distribution of seismic events registered along the historic record\n",
    "sns.set(rc={'figure.figsize':(12,8)})\n",
    "sns.histplot(data = data, x = 'Magnitud')"
   ]
  },
  {
   "cell_type": "markdown",
   "metadata": {},
   "source": [
    "Normal distribution is plain observed with the 100+ years historic record\n",
    "<br> Since not every single seismic event is considered an earthquake, as an arbitrary consensus, we will consider just 6.5 magnitude or higher events as relevant eartquakes for the analysis"
   ]
  },
  {
   "cell_type": "code",
   "execution_count": 63,
   "metadata": {},
   "outputs": [
    {
     "name": "stdout",
     "output_type": "stream",
     "text": [
      "(217, 10)\n"
     ]
    }
   ],
   "source": [
    "#Filter just seismic events 6.5 or higher in magnitude\n",
    "earthQ = data.copy()\n",
    "earthQ = earthQ[earthQ['Magnitud'] >= 6.5]\n",
    "print(earthQ.shape)"
   ]
  },
  {
   "cell_type": "markdown",
   "metadata": {},
   "source": [
    "Distribution is again plotted with the new sample"
   ]
  },
  {
   "cell_type": "code",
   "execution_count": 64,
   "metadata": {},
   "outputs": [
    {
     "data": {
      "text/plain": [
       "<AxesSubplot:xlabel='Magnitud', ylabel='Count'>"
      ]
     },
     "execution_count": 64,
     "metadata": {},
     "output_type": "execute_result"
    },
    {
     "data": {
      "image/png": "[encoded data removed]",
      "text/plain": [
       "<Figure size 864x576 with 1 Axes>"
      ]
     },
     "metadata": {},
     "output_type": "display_data"
    }
   ],
   "source": [
    "#Plot the distribution of seismic events registered along the historic record\n",
    "sns.set(rc={'figure.figsize':(12,8)})\n",
    "sns.histplot(data = earthQ, x = 'Magnitud')"
   ]
  },
  {
   "cell_type": "markdown",
   "metadata": {},
   "source": [
    "Now based on the date, let's configure the real incidence of seisms happening in the same calendar date"
   ]
  },
  {
   "cell_type": "code",
   "execution_count": 65,
   "metadata": {},
   "outputs": [],
   "source": [
    "#Build a calendar date column\n",
    "#Since the date time is a string type, we will take advantage \n",
    "\n",
    "\n",
    "earthQ['Calendar_date'] = earthQ['Fecha'].str[:-5]\n",
    "#Add a constant column to count the incidences\n",
    "\n",
    "earthQ['int'] = 1\n",
    "\n",
    "#After that with a pivot, we may get to know if any date other than September 19 has presented seismic events\n",
    "\n",
    "earthQ_count = pd.pivot_table(earthQ,index='Calendar_date', values=['int','Magnitud'], aggfunc={'int':np.sum,'Magnitud':np.mean}).sort_values(by='int', ascending=False).reset_index()\n",
    "earthQ_count = earthQ_count[earthQ_count['int'] > 2]"
   ]
  },
  {
   "cell_type": "code",
   "execution_count": 66,
   "metadata": {},
   "outputs": [
    {
     "data": {
      "text/plain": [
       "<AxesSubplot:xlabel='Calendar_date', ylabel='int'>"
      ]
     },
     "execution_count": 66,
     "metadata": {},
     "output_type": "execute_result"
    },
    {
     "data": {
      "image/png": "[encoded data removed]",
      "text/plain": [
       "<Figure size 1296x576 with 1 Axes>"
      ]
     },
     "metadata": {},
     "output_type": "display_data"
    }
   ],
   "source": [
    "#Use barplot to visualize calendar dates with 2 or more earthquakes since 1900\n",
    "import matplotlib.pylab as plt\n",
    "\n",
    "sns.set(rc={'figure.figsize':(18,8)})\n",
    "plt.xticks(rotation=60)\n",
    "sns.barplot(data=earthQ_count, x=\"Calendar_date\", y=\"int\")\n"
   ]
  },
  {
   "cell_type": "code",
   "execution_count": null,
   "metadata": {},
   "outputs": [],
   "source": []
  }
 ],
 "metadata": {
  "kernelspec": {
   "display_name": "Python 3.8.10 64-bit",
   "language": "python",
   "name": "python3"
  },
  "language_info": {
   "codemirror_mode": {
    "name": "ipython",
    "version": 3
   },
   "file_extension": ".py",
   "mimetype": "text/x-python",
   "name": "python",
   "nbconvert_exporter": "python",
   "pygments_lexer": "ipython3",
   "version": "3.8.10"
  },
  "orig_nbformat": 4,
  "vscode": {
   "interpreter": {
    "hash": "bc630ddeb4f030d1b7e9c63661cbf278bdd3f891d56f5a4e2703c981bb12805e"
   }
  }
 },
 "nbformat": 4,
 "nbformat_minor": 2
}
