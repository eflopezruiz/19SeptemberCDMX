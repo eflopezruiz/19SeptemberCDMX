{
 "cells": [
  {
   "cell_type": "code",
   "execution_count": 7,
   "metadata": {},
   "outputs": [],
   "source": [
    "import pandas as pd \n",
    "import numpy as np\n",
    "import seaborn as sns\n",
    "\n",
    "import base64\n",
    "import requests"
   ]
  },
  {
   "cell_type": "markdown",
   "metadata": {},
   "source": [
    "## Importing, curating and exploring historic seismic data from SSN"
   ]
  },
  {
   "cell_type": "code",
   "execution_count": 9,
   "metadata": {},
   "outputs": [
    {
     "name": "stderr",
     "output_type": "stream",
     "text": [
      "C:\\Users\\edlopezr\\AppData\\Local\\Temp\\ipykernel_15012\\2515337472.py:7: DtypeWarning: Columns (2,5) have mixed types. Specify dtype option on import or set low_memory=False.\n",
      "  data = pd.read_csv(url)\n"
     ]
    },
    {
     "name": "stdout",
     "output_type": "stream",
     "text": [
      "(262782, 10)\n",
      "<class 'pandas.core.frame.DataFrame'>\n",
      "RangeIndex: 262782 entries, 0 to 262781\n",
      "Data columns (total 10 columns):\n",
      " #   Column                      Non-Null Count   Dtype  \n",
      "---  ------                      --------------   -----  \n",
      " 0   Fecha                       262782 non-null  object \n",
      " 1   Hora                        262782 non-null  object \n",
      " 2   Magnitud                    262782 non-null  object \n",
      " 3   Latitud                     262782 non-null  float64\n",
      " 4   Longitud                    262782 non-null  float64\n",
      " 5   Profundidad                 262782 non-null  object \n",
      " 6   Referencia de localizacion  262782 non-null  object \n",
      " 7   Fecha UTC                   262782 non-null  object \n",
      " 8   Hora UTC                    262782 non-null  object \n",
      " 9   Estatus                     262782 non-null  object \n",
      "dtypes: float64(2), object(8)\n",
      "memory usage: 20.0+ MB\n",
      "None\n"
     ]
    },
    {
     "data": {
      "text/html": [
       "<div>\n",
       "<style scoped>\n",
       "    .dataframe tbody tr th:only-of-type {\n",
       "        vertical-align: middle;\n",
       "    }\n",
       "\n",
       "    .dataframe tbody tr th {\n",
       "        vertical-align: top;\n",
       "    }\n",
       "\n",
       "    .dataframe thead th {\n",
       "        text-align: right;\n",
       "    }\n",
       "</style>\n",
       "<table border=\"1\" class=\"dataframe\">\n",
       "  <thead>\n",
       "    <tr style=\"text-align: right;\">\n",
       "      <th></th>\n",
       "      <th>Fecha</th>\n",
       "      <th>Hora</th>\n",
       "      <th>Magnitud</th>\n",
       "      <th>Latitud</th>\n",
       "      <th>Longitud</th>\n",
       "      <th>Profundidad</th>\n",
       "      <th>Referencia de localizacion</th>\n",
       "      <th>Fecha UTC</th>\n",
       "      <th>Hora UTC</th>\n",
       "      <th>Estatus</th>\n",
       "    </tr>\n",
       "  </thead>\n",
       "  <tbody>\n",
       "    <tr>\n",
       "      <th>0</th>\n",
       "      <td>1/20/1900</td>\n",
       "      <td>0:33:30</td>\n",
       "      <td>7.4</td>\n",
       "      <td>20.0</td>\n",
       "      <td>-105.0</td>\n",
       "      <td>33</td>\n",
       "      <td>71 km al NOROESTE de AUTLAN DE NAVARRO, JAL</td>\n",
       "      <td>1/20/1900</td>\n",
       "      <td>6:33:30</td>\n",
       "      <td>revisado</td>\n",
       "    </tr>\n",
       "    <tr>\n",
       "      <th>1</th>\n",
       "      <td>5/16/1900</td>\n",
       "      <td>14:12:00</td>\n",
       "      <td>6.9</td>\n",
       "      <td>20.0</td>\n",
       "      <td>-105.0</td>\n",
       "      <td>33</td>\n",
       "      <td>71 km al NOROESTE de AUTLAN DE NAVARRO, JAL</td>\n",
       "      <td>5/16/1900</td>\n",
       "      <td>20:12:00</td>\n",
       "      <td>revisado</td>\n",
       "    </tr>\n",
       "    <tr>\n",
       "      <th>2</th>\n",
       "      <td>3/5/1901</td>\n",
       "      <td>4:45:00</td>\n",
       "      <td>6.9</td>\n",
       "      <td>25.0</td>\n",
       "      <td>-110.0</td>\n",
       "      <td>33</td>\n",
       "      <td>100 km al NORESTE de LA PAZ, BCS</td>\n",
       "      <td>3/5/1901</td>\n",
       "      <td>10:45:00</td>\n",
       "      <td>revisado</td>\n",
       "    </tr>\n",
       "  </tbody>\n",
       "</table>\n",
       "</div>"
      ],
      "text/plain": [
       "       Fecha      Hora Magnitud  Latitud  Longitud Profundidad  \\\n",
       "0  1/20/1900   0:33:30      7.4     20.0    -105.0          33   \n",
       "1  5/16/1900  14:12:00      6.9     20.0    -105.0          33   \n",
       "2   3/5/1901   4:45:00      6.9     25.0    -110.0          33   \n",
       "\n",
       "                    Referencia de localizacion  Fecha UTC  Hora UTC   Estatus  \n",
       "0  71 km al NOROESTE de AUTLAN DE NAVARRO, JAL  1/20/1900   6:33:30  revisado  \n",
       "1  71 km al NOROESTE de AUTLAN DE NAVARRO, JAL  5/16/1900  20:12:00  revisado  \n",
       "2             100 km al NORESTE de LA PAZ, BCS   3/5/1901  10:45:00  revisado  "
      ]
     },
     "execution_count": 9,
     "metadata": {},
     "output_type": "execute_result"
    }
   ],
   "source": [
    "#Data retrieved from Mexican Seismological Service from UNAM (http://www2.ssn.unam.mx:8080/catalogo/#)\n",
    "#Data contains 262,782 rows with data from 1900 to September 2022 with historic seisms detection\n",
    "\n",
    "#data = pd.read_csv('SSNMX_19000101_20221012.csv')\n",
    "\n",
    "url = 'https://github.com/eflopezruiz/19SeptemberCDMX/blob/64b15e645f4e4851d1d1f49c1602f61827aa5b2f/SSNMX_19000101_20221012.csv?raw=true'\n",
    "data = pd.read_csv(url)\n",
    "print(data.shape)\n",
    "print(data.info())\n",
    "data.head(3)"
   ]
  },
  {
   "cell_type": "code",
   "execution_count": null,
   "metadata": {},
   "outputs": [],
   "source": []
  }
 ],
 "metadata": {
  "kernelspec": {
   "display_name": "Python 3.8.10 64-bit",
   "language": "python",
   "name": "python3"
  },
  "language_info": {
   "codemirror_mode": {
    "name": "ipython",
    "version": 3
   },
   "file_extension": ".py",
   "mimetype": "text/x-python",
   "name": "python",
   "nbconvert_exporter": "python",
   "pygments_lexer": "ipython3",
   "version": "3.8.10"
  },
  "orig_nbformat": 4,
  "vscode": {
   "interpreter": {
    "hash": "bc630ddeb4f030d1b7e9c63661cbf278bdd3f891d56f5a4e2703c981bb12805e"
   }
  }
 },
 "nbformat": 4,
 "nbformat_minor": 2
}
